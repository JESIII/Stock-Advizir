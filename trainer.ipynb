{
 "cells": [
  {
   "cell_type": "code",
   "execution_count": 2,
   "source": [
    "import os\r\n",
    "import fnmatch\r\n",
    "import datetime\r\n",
    "from datetime import datetime\r\n",
    "import json\r\n",
    "import pandas as pd\r\n",
    "from joblib import dump, load\r\n",
    "from sklearn.neighbors import KNeighborsClassifier\r\n",
    "from finta import TA\r\n",
    "#from sklearn.ensemble import RandomForestClassifier\r\n",
    "#from sklearn.neural_network import MLPClassifier\r\n",
    "from sklearn import preprocessing\r\n",
    "from sklearn.model_selection import train_test_split\r\n",
    "from sklearn import metrics\r\n",
    "import time\r\n",
    "import requests\r\n",
    "alpha_vantage_key = None\r\n",
    "fmp_key_1 = None\r\n",
    "fmp_key = None"
   ],
   "outputs": [],
   "metadata": {}
  },
  {
   "cell_type": "code",
   "execution_count": 9,
   "source": [
    "small_cap_url = f'https://financialmodelingprep.com/api/v3/stock-screener?marketCapMoreThan=300000000&marketCapLowerThan=2000000001&limit=3&apikey={fmp_key}'\r\n",
    "mid_cap_url = f'https://financialmodelingprep.com/api/v3/stock-screener?marketCapMoreThan=2000000000&marketCapLowerThan=10000000001&limit=3&apikey={fmp_key}'\r\n",
    "large_cap_url = f'https://financialmodelingprep.com/api/v3/stock-screener?marketCapMoreThan=10000000000&limit=3&apikey={fmp_key}'\r\n",
    "# find api that can screen by those\r\n",
    "\r\n",
    "# https://api-v2.intrinio.com/securities/screen\r\n",
    "# need to have top 3 of each sector(aka GICS group)/market cap pair\r\n",
    "training_stocks = {\r\n",
    "    'Consumer Cyclical':[]\r\n",
    "    # 'Energy':[],\r\n",
    "    # 'Technology':[],\r\n",
    "    # 'Industrials':[],\r\n",
    "    # 'Financial Services':[],\r\n",
    "    # 'Basic Materials':[],\r\n",
    "    # 'Communication Services':[],\r\n",
    "    # 'Consumer Defensive':[],\r\n",
    "    # 'Healthcare':[],\r\n",
    "    # 'Real Estate':[],\r\n",
    "    # 'Utilities':[],\r\n",
    "    # 'Industrial Goods':[],\r\n",
    "    # 'Financial':[],\r\n",
    "    # 'Services':[],\r\n",
    "    # 'Conglomerates':[]\r\n",
    "}\r\n",
    "for sector in training_stocks:\r\n",
    "    url = small_cap_url + f'&sector={sector}'\r\n",
    "    r = requests.get(url)\r\n",
    "    data = r.json()\r\n",
    "    for stock in data:\r\n",
    "        training_stocks[sector].append(stock['symbol'])\r\n",
    "    url = mid_cap_url + f'&sector={sector}'\r\n",
    "    r = requests.get(url)\r\n",
    "    data = r.json()\r\n",
    "    for stock in data:\r\n",
    "        training_stocks[sector].append(stock['symbol'])\r\n",
    "    url = large_cap_url + f'&sector={sector}'\r\n",
    "    r = requests.get(url)\r\n",
    "    data = r.json()\r\n",
    "    for stock in data:\r\n",
    "        training_stocks[sector].append(stock['symbol'])\r\n",
    "    time.sleep(0)"
   ],
   "outputs": [],
   "metadata": {}
  },
  {
   "cell_type": "code",
   "execution_count": 10,
   "source": [
    "print(training_stocks)"
   ],
   "outputs": [
    {
     "output_type": "stream",
     "name": "stdout",
     "text": [
      "{'Consumer Cyclical': ['SBH', 'BKE', 'DFH', 'GIL.TO', 'LAD', 'LEA', 'AMZN', 'TSLA', 'BABA']}\n"
     ]
    }
   ],
   "metadata": {}
  },
  {
   "cell_type": "code",
   "execution_count": 53,
   "source": [
    "def get_and_clean_data(stock):\r\n",
    "    url = f'https://www.alphavantage.co/query?function=TIME_SERIES_DAILY&datatype=csv&adjusted=true&symbol={stock}&outputsize=full&apikey={alpha_vantage_key}'\r\n",
    "    data = pd.read_csv(url, index_col='timestamp')\r\n",
    "    data_price = data.copy()\r\n",
    "    data_rsi = TA.STOCHRSI(data)\r\n",
    "    data_macd = TA.MACD(data)\r\n",
    "    data_stoch = TA.STOCH(data)\r\n",
    "    data_vzo = TA.VZO(data)\r\n",
    "    url = f'https://www.alphavantage.co/query?function=CCI&time_period=60&datatype=csv&symbol={stock}&interval=daily&apikey={alpha_vantage_key}'\r\n",
    "    data_cci = pd.read_csv(url, index_col='time')\r\n",
    "    url = f'https://www.alphavantage.co/query?function=CONSUMER_SENTIMENT&datatype=csv&apikey={alpha_vantage_key}'\r\n",
    "    data_sent = pd.read_csv(url, index_col='timestamp')\r\n",
    "    # url = f'https://www.alphavantage.co/query?function=UNEMPLOYMENT&datatype=csv&apikey={alpha_vantage_key}'\r\n",
    "    # data_unemployment = pd.read_csv(url, index_col='timestamp')\r\n",
    "    data = data.join(data_rsi, how='left') \r\n",
    "    data = data.join(data_macd, how='left') \r\n",
    "    data = data.join(data_stoch, how='left') \r\n",
    "    data = data.join(data_vzo, how='left') \r\n",
    "    data = data.join(data_cci, how='left') \r\n",
    "    data = data.join(data_sent, how='left')\r\n",
    "    # data = data.join(data_unemployment, how='left')\r\n",
    "    data = data.drop(labels=['open', 'high', 'low', 'close', 'volume'], axis=1)\r\n",
    "    scaler = preprocessing.MinMaxScaler() \r\n",
    "    scaled_values = scaler.fit_transform(data) \r\n",
    "    data.loc[:,:] = scaled_values\r\n",
    "    data = data.join(data_price, how='left')\r\n",
    "    data.interpolate(axis='columns', inplace=True)\r\n",
    "    data.dropna(inplace=True)\r\n",
    "    return data"
   ],
   "outputs": [],
   "metadata": {}
  },
  {
   "cell_type": "code",
   "execution_count": null,
   "source": [],
   "outputs": [],
   "metadata": {}
  },
  {
   "cell_type": "code",
   "execution_count": 54,
   "source": [
    "data = get_and_clean_data('SBH')"
   ],
   "outputs": [],
   "metadata": {}
  },
  {
   "cell_type": "code",
   "execution_count": 55,
   "source": [
    "data.head()\r\n",
    "data.count()"
   ],
   "outputs": [
    {
     "output_type": "execute_result",
     "data": {
      "text/plain": [
       "14 period stochastic RSI.    3710\n",
       "MACD                         3710\n",
       "SIGNAL                       3710\n",
       "14 period STOCH %K           3710\n",
       "VZO                          3710\n",
       "CCI                          3710\n",
       "value                        3710\n",
       "open                         3710\n",
       "high                         3710\n",
       "low                          3710\n",
       "close                        3710\n",
       "volume                       3710\n",
       "dtype: int64"
      ]
     },
     "metadata": {},
     "execution_count": 55
    }
   ],
   "metadata": {}
  },
  {
   "cell_type": "code",
   "execution_count": 57,
   "source": [
    "def add_ratings_to_data(df: pd.DataFrame):\r\n",
    "    shift = 30 #30 days, 6.5 hrs/day, 2 half-hrs/hr\r\n",
    "    df['rating'] = 'hold'\r\n",
    "    df.loc[((df['open'] < df.shift(shift)['open']) & ((df.shift(shift)['open'] - df['open']) / df['open'] * 100 > 10)), 'rating'] = 'mega buy'\r\n",
    "    df.loc[((df['open'] < df.shift(shift)['open']) & ((df.shift(shift)['open'] - df['open']) / df['open'] * 100 > 2)), 'rating'] = 'buy'\r\n",
    "    df.loc[((df['open'] > df.shift(shift)['open']) & ((df['open'] - df.shift(shift)['open']) / df['open'] * 100 > 10)), 'rating'] = 'mega sell'\r\n",
    "    df.loc[((df['open'] > df.shift(shift)['open']) & ((df['open'] - df.shift(shift)['open']) / df['open'] * 100 > 2)), 'rating'] = 'sell'\r\n",
    "    return df"
   ],
   "outputs": [],
   "metadata": {}
  },
  {
   "cell_type": "code",
   "execution_count": 61,
   "source": [
    "data_2 = add_ratings_to_data(data)\r\n",
    "data_2.rating.unique()\r\n",
    "data.head()"
   ],
   "outputs": [
    {
     "output_type": "execute_result",
     "data": {
      "text/html": [
       "<div>\n",
       "<style scoped>\n",
       "    .dataframe tbody tr th:only-of-type {\n",
       "        vertical-align: middle;\n",
       "    }\n",
       "\n",
       "    .dataframe tbody tr th {\n",
       "        vertical-align: top;\n",
       "    }\n",
       "\n",
       "    .dataframe thead th {\n",
       "        text-align: right;\n",
       "    }\n",
       "</style>\n",
       "<table border=\"1\" class=\"dataframe\">\n",
       "  <thead>\n",
       "    <tr style=\"text-align: right;\">\n",
       "      <th></th>\n",
       "      <th>14 period stochastic RSI.</th>\n",
       "      <th>MACD</th>\n",
       "      <th>SIGNAL</th>\n",
       "      <th>14 period STOCH %K</th>\n",
       "      <th>VZO</th>\n",
       "      <th>CCI</th>\n",
       "      <th>value</th>\n",
       "      <th>open</th>\n",
       "      <th>high</th>\n",
       "      <th>low</th>\n",
       "      <th>close</th>\n",
       "      <th>volume</th>\n",
       "      <th>rating</th>\n",
       "    </tr>\n",
       "    <tr>\n",
       "      <th>timestamp</th>\n",
       "      <th></th>\n",
       "      <th></th>\n",
       "      <th></th>\n",
       "      <th></th>\n",
       "      <th></th>\n",
       "      <th></th>\n",
       "      <th></th>\n",
       "      <th></th>\n",
       "      <th></th>\n",
       "      <th></th>\n",
       "      <th></th>\n",
       "      <th></th>\n",
       "      <th></th>\n",
       "    </tr>\n",
       "  </thead>\n",
       "  <tbody>\n",
       "    <tr>\n",
       "      <th>2021-08-16</th>\n",
       "      <td>1.000000</td>\n",
       "      <td>0.549226</td>\n",
       "      <td>0.524885</td>\n",
       "      <td>0.793269</td>\n",
       "      <td>0.725182</td>\n",
       "      <td>0.462702</td>\n",
       "      <td>9.706351</td>\n",
       "      <td>18.95</td>\n",
       "      <td>19.145</td>\n",
       "      <td>18.76</td>\n",
       "      <td>18.96</td>\n",
       "      <td>717132.0</td>\n",
       "      <td>hold</td>\n",
       "    </tr>\n",
       "    <tr>\n",
       "      <th>2021-08-13</th>\n",
       "      <td>0.948464</td>\n",
       "      <td>0.568575</td>\n",
       "      <td>0.528461</td>\n",
       "      <td>0.811060</td>\n",
       "      <td>0.755651</td>\n",
       "      <td>0.472568</td>\n",
       "      <td>9.956284</td>\n",
       "      <td>19.44</td>\n",
       "      <td>19.480</td>\n",
       "      <td>18.96</td>\n",
       "      <td>19.07</td>\n",
       "      <td>461822.0</td>\n",
       "      <td>hold</td>\n",
       "    </tr>\n",
       "    <tr>\n",
       "      <th>2021-08-12</th>\n",
       "      <td>0.903210</td>\n",
       "      <td>0.593045</td>\n",
       "      <td>0.536799</td>\n",
       "      <td>0.882114</td>\n",
       "      <td>0.793345</td>\n",
       "      <td>0.489582</td>\n",
       "      <td>10.054791</td>\n",
       "      <td>19.62</td>\n",
       "      <td>19.770</td>\n",
       "      <td>19.13</td>\n",
       "      <td>19.48</td>\n",
       "      <td>620655.0</td>\n",
       "      <td>hold</td>\n",
       "    </tr>\n",
       "    <tr>\n",
       "      <th>2021-08-11</th>\n",
       "      <td>0.858244</td>\n",
       "      <td>0.611890</td>\n",
       "      <td>0.547626</td>\n",
       "      <td>0.890244</td>\n",
       "      <td>0.821998</td>\n",
       "      <td>0.477096</td>\n",
       "      <td>9.898548</td>\n",
       "      <td>19.32</td>\n",
       "      <td>19.515</td>\n",
       "      <td>19.08</td>\n",
       "      <td>19.50</td>\n",
       "      <td>521757.0</td>\n",
       "      <td>hold</td>\n",
       "    </tr>\n",
       "    <tr>\n",
       "      <th>2021-08-10</th>\n",
       "      <td>0.809897</td>\n",
       "      <td>0.623289</td>\n",
       "      <td>0.558764</td>\n",
       "      <td>0.849593</td>\n",
       "      <td>0.677070</td>\n",
       "      <td>0.451935</td>\n",
       "      <td>9.510967</td>\n",
       "      <td>18.57</td>\n",
       "      <td>19.460</td>\n",
       "      <td>18.50</td>\n",
       "      <td>19.40</td>\n",
       "      <td>750068.0</td>\n",
       "      <td>hold</td>\n",
       "    </tr>\n",
       "  </tbody>\n",
       "</table>\n",
       "</div>"
      ],
      "text/plain": [
       "            14 period stochastic RSI.      MACD    SIGNAL  14 period STOCH %K  \\\n",
       "timestamp                                                                       \n",
       "2021-08-16                   1.000000  0.549226  0.524885            0.793269   \n",
       "2021-08-13                   0.948464  0.568575  0.528461            0.811060   \n",
       "2021-08-12                   0.903210  0.593045  0.536799            0.882114   \n",
       "2021-08-11                   0.858244  0.611890  0.547626            0.890244   \n",
       "2021-08-10                   0.809897  0.623289  0.558764            0.849593   \n",
       "\n",
       "                 VZO       CCI      value   open    high    low  close  \\\n",
       "timestamp                                                                \n",
       "2021-08-16  0.725182  0.462702   9.706351  18.95  19.145  18.76  18.96   \n",
       "2021-08-13  0.755651  0.472568   9.956284  19.44  19.480  18.96  19.07   \n",
       "2021-08-12  0.793345  0.489582  10.054791  19.62  19.770  19.13  19.48   \n",
       "2021-08-11  0.821998  0.477096   9.898548  19.32  19.515  19.08  19.50   \n",
       "2021-08-10  0.677070  0.451935   9.510967  18.57  19.460  18.50  19.40   \n",
       "\n",
       "              volume rating  \n",
       "timestamp                    \n",
       "2021-08-16  717132.0   hold  \n",
       "2021-08-13  461822.0   hold  \n",
       "2021-08-12  620655.0   hold  \n",
       "2021-08-11  521757.0   hold  \n",
       "2021-08-10  750068.0   hold  "
      ]
     },
     "metadata": {},
     "execution_count": 61
    }
   ],
   "metadata": {}
  },
  {
   "cell_type": "code",
   "execution_count": 65,
   "source": [
    "def get_stock_category(stock):\r\n",
    "    url = f'https://financialmodelingprep.com/api/v3/profile/{stock}?apikey={fmp_key}'\r\n",
    "    data = requests.get(url).json()\r\n",
    "    sector = data[0]['sector']\r\n",
    "    cap = data[0]['mktCap']\r\n",
    "    if cap > 10_000_000_000:\r\n",
    "        cap = 'large'\r\n",
    "    elif cap < 10_000_000_000 and cap > 2_000_000_000:\r\n",
    "        cap = 'mid'\r\n",
    "    else:\r\n",
    "        cap = 'small'\r\n",
    "    sector = sector.replace(' ', '')\r\n",
    "    category = f'{sector}_{cap}'\r\n",
    "    return category"
   ],
   "outputs": [],
   "metadata": {}
  },
  {
   "cell_type": "code",
   "execution_count": 66,
   "source": [
    "get_stock_category('SBH')"
   ],
   "outputs": [
    {
     "output_type": "execute_result",
     "data": {
      "text/plain": [
       "'ConsumerCyclical_small'"
      ]
     },
     "metadata": {},
     "execution_count": 66
    }
   ],
   "metadata": {}
  }
 ],
 "metadata": {
  "orig_nbformat": 4,
  "language_info": {
   "name": "python",
   "version": "3.8.8",
   "mimetype": "text/x-python",
   "codemirror_mode": {
    "name": "ipython",
    "version": 3
   },
   "pygments_lexer": "ipython3",
   "nbconvert_exporter": "python",
   "file_extension": ".py"
  },
  "kernelspec": {
   "name": "python3",
   "display_name": "Python 3.8.8 64-bit (conda)"
  },
  "interpreter": {
   "hash": "3492b37776baa321d60e96246898095570d8f7b7d66331de0f37549c95074a41"
  }
 },
 "nbformat": 4,
 "nbformat_minor": 2
}